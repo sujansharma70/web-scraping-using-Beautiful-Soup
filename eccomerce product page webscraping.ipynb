{
 "cells": [
  {
   "cell_type": "code",
   "execution_count": 49,
   "metadata": {},
   "outputs": [],
   "source": [
    "import requests\n",
    "from bs4 import BeautifulSoup\n",
    "import pandas as pd"
   ]
  },
  {
   "cell_type": "code",
   "execution_count": 68,
   "metadata": {},
   "outputs": [
    {
     "name": "stdout",
     "output_type": "stream",
     "text": [
      "['https://www.thewhiskyexchange.com//p/64380/shizuoka-single-malt-prologue-k-and-prologue-w-2x20cl', 'https://www.thewhiskyexchange.com//p/23771/hakushu-distillers-reserve', 'https://www.thewhiskyexchange.com//p/23928/nikka-coffey-grain-whisky', 'https://www.thewhiskyexchange.com//p/32761/yoichi-single-malt', 'https://www.thewhiskyexchange.com//p/36362/suntory-toki', 'https://www.thewhiskyexchange.com//p/37317/the-chita-whisky', 'https://www.thewhiskyexchange.com//p/32762/miyagikyo-single-malt', 'https://www.thewhiskyexchange.com//p/10132/hakushu-10-year-old', 'https://www.thewhiskyexchange.com//p/37325/suntory-torys-classic', 'https://www.thewhiskyexchange.com//p/2944/yoichi-10-year-old', 'https://www.thewhiskyexchange.com//p/45367/kaiyo-mizunara-oak-cask-strength', 'https://www.thewhiskyexchange.com//p/34461/akashi-5-year-old-sherry-cask-half-litre', 'https://www.thewhiskyexchange.com//p/63405/the-house-of-suntory-triology-pack-3x20cl', 'https://www.thewhiskyexchange.com//p/52590/kaiyo-peated-mizunara-oak', 'https://www.thewhiskyexchange.com//p/45366/kaiyo-mizunara-oak', 'https://www.thewhiskyexchange.com//p/2924/miyagikyo-10-year-old', 'https://www.thewhiskyexchange.com//p/55785/ichiros-malt-grain-japanese-blended-whisky-2020', 'https://www.thewhiskyexchange.com//p/2926/miyagikyo-15-year-old', 'https://www.thewhiskyexchange.com//p/64652/nikka-coffey-grain-whisky-show-package-2-sunday-tickets', 'https://www.thewhiskyexchange.com//p/64651/nikka-coffey-grain-whisky-show-package-1-sunday-ticket', 'https://www.thewhiskyexchange.com//p/57939/chichibu-2009-10-year-old-artist-international-10th-anniversary', 'https://www.thewhiskyexchange.com//p/45906/chichibu-2010-cask-1000', 'https://www.thewhiskyexchange.com//p/25880/hanyu-1985-the-joker-monochrome-label']\n"
     ]
    }
   ],
   "source": [
    "baseurl = 'https://www.thewhiskyexchange.com/'\n",
    "headers = {\n",
    "    'User-Agent': 'Mozilla/5.0 (Windows NT 10.0; Win64; x64) AppleWebKit/537.36 (KHTML, like Gecko) Chrome/94.0.4606.81 Safari/537.36'\n",
    "}\n",
    "r = requests.get('https://www.thewhiskyexchange.com/c/35/japanese-whisky')\n",
    "soup = BeautifulSoup(r.content, 'lxml')\n",
    "product_details = soup.find_all('li', class_='product-grid__item')\n",
    "productlinks = []\n",
    "for product in product_details:\n",
    "    for link in product.find_all('a', href = True):\n",
    "        #print(link['href'])\n",
    "        productlinks.append(baseurl + link['href'])\n",
    "        \n",
    "        \n",
    "    "
   ]
  },
  {
   "cell_type": "code",
   "execution_count": 88,
   "metadata": {},
   "outputs": [
    {
     "data": {
      "text/html": [
       "<div>\n",
       "<style scoped>\n",
       "    .dataframe tbody tr th:only-of-type {\n",
       "        vertical-align: middle;\n",
       "    }\n",
       "\n",
       "    .dataframe tbody tr th {\n",
       "        vertical-align: top;\n",
       "    }\n",
       "\n",
       "    .dataframe thead th {\n",
       "        text-align: right;\n",
       "    }\n",
       "</style>\n",
       "<table border=\"1\" class=\"dataframe\">\n",
       "  <thead>\n",
       "    <tr style=\"text-align: right;\">\n",
       "      <th></th>\n",
       "      <th>name</th>\n",
       "      <th>price</th>\n",
       "      <th>reviews</th>\n",
       "      <th>availability</th>\n",
       "    </tr>\n",
       "  </thead>\n",
       "  <tbody>\n",
       "    <tr>\n",
       "      <th>0</th>\n",
       "      <td>Shizuoka Single Malt Prologue K and Prologue W...</td>\n",
       "      <td>£199</td>\n",
       "      <td>no reviews</td>\n",
       "      <td>Yes</td>\n",
       "    </tr>\n",
       "    <tr>\n",
       "      <th>1</th>\n",
       "      <td>Hakushu Distiller's Reserve</td>\n",
       "      <td>£70.95</td>\n",
       "      <td>4.5\\n\\n\\n(28 Reviews)</td>\n",
       "      <td>Yes</td>\n",
       "    </tr>\n",
       "    <tr>\n",
       "      <th>2</th>\n",
       "      <td>Nikka Coffey Grain Whisky</td>\n",
       "      <td>£56.95</td>\n",
       "      <td>4.5\\n\\n\\n(51 Reviews)</td>\n",
       "      <td>Yes</td>\n",
       "    </tr>\n",
       "    <tr>\n",
       "      <th>3</th>\n",
       "      <td>Yoichi Single Malt</td>\n",
       "      <td>£75.95</td>\n",
       "      <td>4.5\\n\\n\\n(9 Reviews)</td>\n",
       "      <td>Yes</td>\n",
       "    </tr>\n",
       "    <tr>\n",
       "      <th>4</th>\n",
       "      <td>Suntory Toki</td>\n",
       "      <td>£33.95</td>\n",
       "      <td>4\\n\\n\\n(33 Reviews)</td>\n",
       "      <td>Yes</td>\n",
       "    </tr>\n",
       "  </tbody>\n",
       "</table>\n",
       "</div>"
      ],
      "text/plain": [
       "                                                name   price  \\\n",
       "0  Shizuoka Single Malt Prologue K and Prologue W...    £199   \n",
       "1                        Hakushu Distiller's Reserve  £70.95   \n",
       "2                          Nikka Coffey Grain Whisky  £56.95   \n",
       "3                                 Yoichi Single Malt  £75.95   \n",
       "4                                       Suntory Toki  £33.95   \n",
       "\n",
       "                 reviews availability  \n",
       "0             no reviews          Yes  \n",
       "1  4.5\\n\\n\\n(28 Reviews)          Yes  \n",
       "2  4.5\\n\\n\\n(51 Reviews)          Yes  \n",
       "3   4.5\\n\\n\\n(9 Reviews)          Yes  \n",
       "4    4\\n\\n\\n(33 Reviews)          Yes  "
      ]
     },
     "execution_count": 88,
     "metadata": {},
     "output_type": "execute_result"
    }
   ],
   "source": [
    "product_name = []\n",
    "product_price = []\n",
    "product_reviews = []\n",
    "availability = []\n",
    "i = 0\n",
    "#product_price = []\n",
    "for each_link in productlinks:\n",
    "    #test_link = 'https://www.thewhiskyexchange.com/p/23771/hakushu-distillers-reserve'\n",
    "    r = requests.get(each_link, headers= headers)\n",
    "    soup = BeautifulSoup(r.content, 'lxml')\n",
    "    individual_product = soup.find('h1', class_='product-main__name').text.strip()\n",
    "    product_name.append(individual_product)\n",
    "\n",
    "    individual_price = soup.find('p', class_='product-action__price').text.strip()\n",
    "    product_price.append(individual_price)\n",
    "    \n",
    "    \n",
    "    try:\n",
    "        individual_reviews = soup.find('p', class_='review-overview__content').text.strip()\n",
    "    except:\n",
    "        individual_reviews = 'no reviews'\n",
    "    product_reviews.append(individual_reviews)\n",
    "    \n",
    "    individual_flag = soup.find('p', class_='product-action__stock-flag').text.strip()\n",
    "    if individual_flag == 'In Stock':\n",
    "        availability.append('Yes')\n",
    "    else:\n",
    "        availability.append('No')\n",
    "\n",
    "\n",
    "whisky = {\n",
    "    'name' : product_name,\n",
    "    'price' : product_price,\n",
    "    'reviews' : product_reviews,\n",
    "    'availability' : availability\n",
    "\n",
    "}\n",
    "#print(whisky)\n",
    "df = pd.DataFrame(whisky)\n",
    "df.head(5)\n"
   ]
  },
  {
   "cell_type": "code",
   "execution_count": 87,
   "metadata": {},
   "outputs": [],
   "source": [
    "df.to_excel(r'C:/Users/aryal/web scraping project/eccomerce_product_page_webscraping.xlsx', index = False)"
   ]
  },
  {
   "cell_type": "code",
   "execution_count": null,
   "metadata": {},
   "outputs": [],
   "source": []
  }
 ],
 "metadata": {
  "kernelspec": {
   "display_name": "Python 3",
   "language": "python",
   "name": "python3"
  },
  "language_info": {
   "codemirror_mode": {
    "name": "ipython",
    "version": 3
   },
   "file_extension": ".py",
   "mimetype": "text/x-python",
   "name": "python",
   "nbconvert_exporter": "python",
   "pygments_lexer": "ipython3",
   "version": "3.8.5"
  }
 },
 "nbformat": 4,
 "nbformat_minor": 4
}
